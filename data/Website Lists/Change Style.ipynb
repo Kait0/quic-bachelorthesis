{
 "cells": [
  {
   "cell_type": "code",
   "execution_count": 1,
   "metadata": {},
   "outputs": [
    {
     "name": "stdout",
     "output_type": "stream",
     "text": [
      "Done\n"
     ]
    }
   ],
   "source": [
    "import pandas as pd\n",
    "import numpy as np\n",
    "\n",
    "#This reads the top 1M from an CSV file and prints only the URLS to an txt file\n",
    "s = pd.read_csv(\"C:\\\\Users\\\\Admin\\\\Ordnung\\\\Studium\\\\Bachelorarbeit\\\\2018-bernhard-bachelors-thesis\\\\data\\\\top-1m.csv\\\\top-1m.csv\",',', names = ['Number','URL'])\n",
    "#print(s)\n",
    "text_file = open(\"top-1m.txt\", \"w\")\n",
    "for index, row in s.iterrows():\n",
    "    text_file.write(\"%s\\n\" % row[1])\n",
    "\n",
    "text_file.close()\n",
    "print(\"Done\")"
   ]
  },
  {
   "cell_type": "code",
   "execution_count": null,
   "metadata": {},
   "outputs": [],
   "source": []
  }
 ],
 "metadata": {
  "kernelspec": {
   "display_name": "Python 3",
   "language": "python",
   "name": "python3"
  },
  "language_info": {
   "codemirror_mode": {
    "name": "ipython",
    "version": 3
   },
   "file_extension": ".py",
   "mimetype": "text/x-python",
   "name": "python",
   "nbconvert_exporter": "python",
   "pygments_lexer": "ipython3",
   "version": "3.6.5"
  }
 },
 "nbformat": 4,
 "nbformat_minor": 2
}
