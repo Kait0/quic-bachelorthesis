{
 "cells": [
  {
   "cell_type": "code",
   "execution_count": 2,
   "metadata": {
    "scrolled": true
   },
   "outputs": [
    {
     "data": {
      "image/png": "[encoded data removed]",
      "text/plain": [
       "<Figure size 360x108 with 1 Axes>"
      ]
     },
     "metadata": {},
     "output_type": "display_data"
    }
   ],
   "source": [
    "import pandas as pd\n",
    "import numpy as np\n",
    "import matplotlib.pyplot as plt\n",
    "\n",
    "s = pd.read_csv(\"C:\\\\Users\\\\Admin\\\\Ordnung\\\\Studium\\\\Bachelorarbeit\\\\2018-bernhard-bachelors-thesis\\\\data\\\\CSV Data\\\\emilia_v4_1kTls13.csv\",';')\n",
    "yticks = np.arange(0,1.1,0.2)\n",
    "xticks = np.arange(20,100,10)\n",
    "\n",
    "tcp = s.loc[s['Protocol'] == 'TCP/TLS1.2']\n",
    "#print(tcp.count())\n",
    "tcp13 = s.loc[s['Protocol'] == 'TCP/TLS1.3']\n",
    "#print(tcp13.count())\n",
    "x2 = np.sort(tcp['ConnectionEstablishmentTime'])\n",
    "y2 = np.arange(1, len(x2)+1)/float(len(x2))\n",
    "x3 = np.sort(tcp13['ConnectionEstablishmentTime'])\n",
    "y3 = np.arange(1, len(x3)+1)/float(len(x3))\n",
    "\n",
    "#Plot configuration\n",
    "fig = plt.figure(figsize=(5,1.5))\n",
    "plt.rcParams['font.size'] = 12\n",
    "plt.title('All Sites supporting TLS 1.3 in Alexa Top 100K with IPv6', fontsize=12, y=1.05)\n",
    "ax = fig.axes[0]\n",
    "ax.set_yticks(yticks)\n",
    "ax.set_ylim([0,1.05])\n",
    "ax.set_xlim([20,100])\n",
    "ax.set_xticks(xticks)\n",
    "ax.spines['right'].set_color('none')\n",
    "ax.spines['top'].set_color('none')\n",
    "_ = plt.plot(x2,y2, marker='s', linewidth=0.3, markersize=5, fillstyle='none', color = 'blue')\n",
    "_ = plt.plot(x3,y3, marker='s', linewidth=0.3, markersize=5, fillstyle='none', color = 'green')\n",
    "_ = plt.xlabel('latency (x-axis is cut)')\n",
    "_ = plt.ylabel('ECDF')\n",
    "\n",
    "plt.legend(['TLS 1.2 handshake', 'TLS 1.3 handshake'], fontsize=9, loc='lower right')\n",
    "#plt.savefig('Plots\\\\vmott17_v6_100kTls13_allsites.pdf', format='pdf', bbox_inches='tight')\n",
    "plt.show()\n",
    "\n",
    "#Plot individual site\n",
    "gTcp = tcp.loc[tcp['Url'] == 'www.google.com']\n",
    "gTcp13 = tcp13.loc[tcp13['Url'] == 'www.google.com']"
   ]
  },
  {
   "cell_type": "code",
   "execution_count": 29,
   "metadata": {},
   "outputs": [
    {
     "data": {
      "image/png": "[encoded data removed]",
      "text/plain": [
       "<Figure size 360x108 with 1 Axes>"
      ]
     },
     "metadata": {},
     "output_type": "display_data"
    }
   ],
   "source": [
    "#Only Google Data\n",
    "\n",
    "gX2 = np.sort(gTcp['ConnectionEstablishmentTime'])\n",
    "gY2 = np.arange(1, len(gX2)+1)/float(len(gX2))\n",
    "gX3 = np.sort(gTcp13['ConnectionEstablishmentTime'])\n",
    "gY3 = np.arange(1, len(gX3)+1)/float(len(gX3))\n",
    "\n",
    "xticks = np.arange(20,160,20)\n",
    "fig = plt.figure(figsize=(5,1.5))\n",
    "plt.rcParams['font.size'] = 12\n",
    "plt.title('www.google.com with ipv6', fontsize=12, y=1.05)\n",
    "ax = fig.axes[0]\n",
    "ax.set_yticks(yticks)\n",
    "ax.set_ylim([0,1.05])\n",
    "ax.set_xlim([20,160])\n",
    "ax.set_xticks(xticks)\n",
    "ax.spines['right'].set_color('none')\n",
    "ax.spines['top'].set_color('none')\n",
    "\n",
    "_ = plt.plot(gX2,gY2, marker='s', linewidth=0.3, markersize=5, fillstyle='none', color = 'blue')\n",
    "_ = plt.plot(gX3,gY3, marker='s', linewidth=0.3, markersize=5, fillstyle='none', color = 'green')\n",
    "_ = plt.xlabel('latency')\n",
    "_ = plt.ylabel('ECDF')\n",
    "\n",
    "plt.legend(['TLS 1.2 handshake', 'TLS 1.3 handshake'], fontsize=9, loc='lower right')\n",
    "plt.show()"
   ]
  },
  {
   "cell_type": "code",
   "execution_count": 23,
   "metadata": {},
   "outputs": [
    {
     "name": "stdout",
     "output_type": "stream",
     "text": [
      "13663\n"
     ]
    }
   ],
   "source": [
    "#This prints the number of unique TCP/TLS 1.2 supporting websites in this dataset\n",
    "a = pd.unique(tcp['Url'])\n",
    "ua,uind=np.unique(a,return_inverse=True)\n",
    "count=np.bincount(uind)\n",
    "i = 0\n",
    "for x in count:\n",
    "    i += 1\n",
    "print(i)"
   ]
  },
  {
   "cell_type": "code",
   "execution_count": 4,
   "metadata": {},
   "outputs": [
    {
     "name": "stdout",
     "output_type": "stream",
     "text": [
      "2018-08-13 11:08:39.104457\n",
      "2018-08-13 11:08:43.056097\n",
      "2018-08-13 11:08:46.944691\n",
      "2018-08-13 11:08:50.962375\n",
      "2018-08-13 11:08:54.620895\n",
      "2018-08-13 11:08:58.228303\n",
      "2018-08-13 11:09:02.084874\n",
      "2018-08-13 11:09:06.149591\n",
      "2018-08-13 11:09:09.702489\n",
      "                           URL              IP  PORT  ConnDiff\n",
      "0               www.google.com  216.58.213.228   443    19.974\n",
      "1                 facebook.com   185.60.216.35   443    12.226\n",
      "2                instagram.com   34.196.45.162   443    96.379\n",
      "3             www.whatsapp.com   185.60.216.53   443     8.566\n",
      "4                     txxx.com   104.20.71.110   443     9.247\n",
      "5                    fbcdn.net   185.60.216.35   443    11.853\n",
      "6               chaturbate.com  104.16.147.241   443     8.766\n",
      "7                clearload.bid    172.64.199.2   443     9.201\n",
      "8                  porn555.com   104.27.20.101   443   -11.319\n",
      "9                    google.az   172.217.16.68   443    14.727\n",
      "10               mediafire.com   104.19.195.29   443    10.504\n",
      "11               spankbang.com    104.20.41.98   443    10.220\n",
      "12                 upornia.com  104.27.240.252   443   747.421\n",
      "13                      yts.am   104.27.215.28   443     6.783\n",
      "14                   canva.com    104.16.79.22   443     4.750\n",
      "15               messenger.com   185.60.216.15   443    10.558\n",
      "16                 hotmovs.com     104.25.65.8   443    10.442\n",
      "17                   udemy.com  104.18.133.108   443     3.585\n",
      "18                    1337x.to     104.31.16.3   443    10.254\n",
      "19                  elfagr.com    104.25.23.11   443    41.021\n",
      "20                kissanime.ru    104.20.27.43   443    10.875\n",
      "21                  hclips.com  104.23.104.173   443    10.082\n",
      "22                   google.kz   172.217.16.68   443    15.925\n",
      "23                   hdzog.com     104.24.5.33   443     8.600\n",
      "24              newsprofin.com     172.64.96.4   443     9.627\n",
      "25            albawabhnews.com   104.18.56.110   443     9.820\n",
      "26                 indoxx1.com     104.25.7.27   443    11.917\n",
      "27         www.googlevideo.com  216.58.213.228   443    16.453\n",
      "28                   pornq.com   104.24.14.115   443     9.461\n",
      "29                hdfcbank.com    104.16.83.72   443     9.784\n",
      "...                        ...             ...   ...       ...\n",
      "8017               upornia.com  104.27.241.252   443   -72.325\n",
      "8018                    yts.am   104.27.214.28   443    11.321\n",
      "8019                 canva.com    104.16.77.22   443     7.442\n",
      "8020             messenger.com   185.60.216.15   443     8.176\n",
      "8021               hotmovs.com     104.25.64.8   443    11.844\n",
      "8022                 udemy.com  104.18.130.108   443     7.083\n",
      "8023                  1337x.to     104.31.17.3   443    18.063\n",
      "8024                elfagr.com    104.25.22.11   443    12.027\n",
      "8025              kissanime.ru    104.20.27.43   443     8.227\n",
      "8026                hclips.com  104.23.105.173   443    18.117\n",
      "8027                 google.kz  216.58.213.228   443    24.718\n",
      "8028                 hdzog.com     104.24.5.33   443     7.838\n",
      "8029            newsprofin.com   104.28.13.150   443     3.617\n",
      "8030          albawabhnews.com   104.18.57.110   443    11.489\n",
      "8031               indoxx1.com     104.25.6.27   443     9.497\n",
      "8032       www.googlevideo.com   172.217.16.68   443    26.295\n",
      "8033                 pornq.com   104.24.13.115   443     9.238\n",
      "8034              hdfcbank.com    104.16.81.72   443     7.611\n",
      "8035                    ouo.io    104.20.2.139   443     8.078\n",
      "8036              www.okta.com    104.20.86.36   443     5.345\n",
      "8037            ensonhaber.com   104.20.60.198   443     9.402\n",
      "8038                  beeg.com   104.20.37.253   443    10.375\n",
      "8039         doublepimpssl.com  104.16.223.128   443    15.445\n",
      "8040               taringa.net   104.16.254.64   443    23.151\n",
      "8041               android.com  216.58.213.228   443    23.726\n",
      "8042             debate.com.mx  104.17.227.106   443     9.568\n",
      "8043  www.perfecttoolmedia.com  104.27.144.236   443    11.975\n",
      "8044              subscene.com   104.27.155.70   443     8.983\n",
      "8045           themeforest.net   104.18.31.233   443     6.955\n",
      "8046             nexusmods.com  104.25.117.119   443     4.632\n",
      "\n",
      "[8047 rows x 4 columns]\n"
     ]
    }
   ],
   "source": [
    "import datetime\n",
    "print(datetime.datetime.now())\n",
    "i = 0\n",
    "list2 = []\n",
    "for index, row in tcp.iterrows():\n",
    "    url = tcp13['Url'] == row['Url']\n",
    "    timelow = tcp13['TimeOfMeasurement'] - 60 <= row['TimeOfMeasurement']\n",
    "    timehigh = row['TimeOfMeasurement'] <= tcp13['TimeOfMeasurement'] + 60 #pair measurements that happended in the same minute\n",
    "    t = tcp13[url & timelow & timehigh]\n",
    "    t = t.reset_index(drop=True)\n",
    "    if(t.empty != True):\n",
    "        list2.append([t.at[0,'Url'], t.at[0,'Ip'], t.at[0,'Port'], (row['ConnectionEstablishmentTime'] - t.at[0,'ConnectionEstablishmentTime'])])\n",
    "    i = i + 1\n",
    "    if(i%1000 == 0): #Show me how fast the script is progressing\n",
    "        print(datetime.datetime.now())\n",
    "        \n",
    "dfTls13Tls12 = pd.DataFrame(list2, columns = ['URL','IP', 'PORT', 'ConnDiff'])\n",
    "print(dfTls13Tls12)"
   ]
  },
  {
   "cell_type": "code",
   "execution_count": 8,
   "metadata": {},
   "outputs": [
    {
     "data": {
      "image/png": "[encoded data removed]",
      "text/plain": [
       "<Figure size 360x108 with 1 Axes>"
      ]
     },
     "metadata": {},
     "output_type": "display_data"
    }
   ],
   "source": [
    "x = np.sort(dfTls13Tls12['ConnDiff'])\n",
    "y = np.arange(1, len(x)+1)/float(len(x))\n",
    "\n",
    "yticks = np.arange(0,1.1,0.2)\n",
    "xticks = np.arange(-40,80,10)\n",
    "fig = plt.figure(figsize=(5,1.5))\n",
    "plt.rcParams['font.size'] = 12\n",
    "plt.title('TLS1.2faster<--------------------->TLS 1.3 faster', fontsize=12, y=1.05)\n",
    "ax = fig.axes[0]\n",
    "ax.set_yticks(yticks)\n",
    "ax.set_ylim([0,1.05])\n",
    "ax.set_xlim([-40,70])\n",
    "ax.set_xticks(xticks)\n",
    "ax.spines['right'].set_color('none')\n",
    "ax.spines['top'].set_color('none')\n",
    "_ = plt.plot(x,y, marker='s', linewidth=0.3, markersize=5, fillstyle='none', color = 'orange')\n",
    "_ = plt.xlabel('latency difference with ipv6(x-axis is cut)')\n",
    "_ = plt.ylabel('ECDF')\n",
    "plt.axvline(x=0)\n",
    "\n",
    "plt.legend(['Difference between TLS 1.3 and TLS 1.2'], fontsize=7, loc='lower right')\n",
    "plt.savefig('Plots\\\\emilia_v4_1kTls13_allsites_difference.png', format='png', bbox_inches='tight')\n",
    "plt.show()"
   ]
  },
  {
   "cell_type": "code",
   "execution_count": null,
   "metadata": {},
   "outputs": [],
   "source": []
  }
 ],
 "metadata": {
  "kernelspec": {
   "display_name": "Python 3",
   "language": "python",
   "name": "python3"
  },
  "language_info": {
   "codemirror_mode": {
    "name": "ipython",
    "version": 3
   },
   "file_extension": ".py",
   "mimetype": "text/x-python",
   "name": "python",
   "nbconvert_exporter": "python",
   "pygments_lexer": "ipython3",
   "version": "3.6.5"
  }
 },
 "nbformat": 4,
 "nbformat_minor": 2
}
